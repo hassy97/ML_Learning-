{
 "cells": [
  {
   "cell_type": "markdown",
   "id": "19cda029-9094-4ddc-96c0-04b573e52089",
   "metadata": {},
   "source": [
    " \n",
    " # 1.1. Linear Models"
   ]
  },
  {
   "cell_type": "code",
   "execution_count": 1,
   "id": "77627725-81ef-4e6c-b54f-07575ad7baba",
   "metadata": {},
   "outputs": [
    {
     "data": {
      "text/plain": [
       "LinearRegression()"
      ]
     },
     "execution_count": 1,
     "metadata": {},
     "output_type": "execute_result"
    }
   ],
   "source": [
    "## start with the basic linear model \n",
    "from sklearn import linear_model\n",
    "reg = linear_model.LinearRegression()\n",
    "reg.fit([[0, 0], [1, 1], [2, 2]], [0, 1, 2])\n"
   ]
  },
  {
   "cell_type": "code",
   "execution_count": 2,
   "id": "671a1bf6-046f-4a49-bc02-d237dfe845c0",
   "metadata": {},
   "outputs": [
    {
     "data": {
      "text/plain": [
       "array([0.5, 0.5])"
      ]
     },
     "execution_count": 2,
     "metadata": {},
     "output_type": "execute_result"
    }
   ],
   "source": [
    "reg.coef_"
   ]
  },
  {
   "cell_type": "markdown",
   "id": "96a0f76f-7d60-4527-9f2a-3b84f83ffc82",
   "metadata": {},
   "source": [
    "The core idea is to obtain a line that best fits the data. The best fit line is the one for which total prediction error (all data points) are as small as possible. Error is the distance between the point to the regression line"
   ]
  },
  {
   "cell_type": "markdown",
   "id": "a8020353-f994-4d5b-a4dc-b2f442390b66",
   "metadata": {
    "tags": []
   },
   "source": [
    "# Linear Regression "
   ]
  },
  {
   "cell_type": "code",
   "execution_count": 3,
   "id": "78496746-1c83-4c28-9c6a-3fd8e5bf449a",
   "metadata": {},
   "outputs": [],
   "source": [
    "import pandas as pd \n",
    "from matplotlib import pyplot as plt\n",
    "import numpy as np \n",
    "from sklearn import linear_model\n",
    "import warnings\n"
   ]
  },
  {
   "cell_type": "code",
   "execution_count": 8,
   "id": "af14edbe-a2c7-4bf6-94b2-7ae9aa84f8a3",
   "metadata": {},
   "outputs": [],
   "source": [
    "# read the data from the csv\n",
    " \n",
    "\n",
    "df = pd.read_csv(\"dataset.csv\")"
   ]
  },
  {
   "cell_type": "code",
   "execution_count": 9,
   "id": "ee94ed66-fe1d-4639-a33f-2140652fa76c",
   "metadata": {},
   "outputs": [
    {
     "data": {
      "text/html": [
       "<div>\n",
       "<style scoped>\n",
       "    .dataframe tbody tr th:only-of-type {\n",
       "        vertical-align: middle;\n",
       "    }\n",
       "\n",
       "    .dataframe tbody tr th {\n",
       "        vertical-align: top;\n",
       "    }\n",
       "\n",
       "    .dataframe thead th {\n",
       "        text-align: right;\n",
       "    }\n",
       "</style>\n",
       "<table border=\"1\" class=\"dataframe\">\n",
       "  <thead>\n",
       "    <tr style=\"text-align: right;\">\n",
       "      <th></th>\n",
       "      <th>SAT</th>\n",
       "      <th>GPA</th>\n",
       "    </tr>\n",
       "  </thead>\n",
       "  <tbody>\n",
       "    <tr>\n",
       "      <th>0</th>\n",
       "      <td>1714</td>\n",
       "      <td>2.40</td>\n",
       "    </tr>\n",
       "    <tr>\n",
       "      <th>1</th>\n",
       "      <td>1664</td>\n",
       "      <td>2.52</td>\n",
       "    </tr>\n",
       "    <tr>\n",
       "      <th>2</th>\n",
       "      <td>1760</td>\n",
       "      <td>2.54</td>\n",
       "    </tr>\n",
       "    <tr>\n",
       "      <th>3</th>\n",
       "      <td>1685</td>\n",
       "      <td>2.74</td>\n",
       "    </tr>\n",
       "    <tr>\n",
       "      <th>4</th>\n",
       "      <td>1693</td>\n",
       "      <td>2.83</td>\n",
       "    </tr>\n",
       "  </tbody>\n",
       "</table>\n",
       "</div>"
      ],
      "text/plain": [
       "    SAT   GPA\n",
       "0  1714  2.40\n",
       "1  1664  2.52\n",
       "2  1760  2.54\n",
       "3  1685  2.74\n",
       "4  1693  2.83"
      ]
     },
     "execution_count": 9,
     "metadata": {},
     "output_type": "execute_result"
    }
   ],
   "source": [
    "df.head()"
   ]
  },
  {
   "cell_type": "code",
   "execution_count": 10,
   "id": "f56d65b0-ab8e-4df9-b359-0f490e626dc0",
   "metadata": {},
   "outputs": [
    {
     "data": {
      "text/html": [
       "<div>\n",
       "<style scoped>\n",
       "    .dataframe tbody tr th:only-of-type {\n",
       "        vertical-align: middle;\n",
       "    }\n",
       "\n",
       "    .dataframe tbody tr th {\n",
       "        vertical-align: top;\n",
       "    }\n",
       "\n",
       "    .dataframe thead th {\n",
       "        text-align: right;\n",
       "    }\n",
       "</style>\n",
       "<table border=\"1\" class=\"dataframe\">\n",
       "  <thead>\n",
       "    <tr style=\"text-align: right;\">\n",
       "      <th></th>\n",
       "      <th>SAT</th>\n",
       "      <th>GPA</th>\n",
       "    </tr>\n",
       "  </thead>\n",
       "  <tbody>\n",
       "    <tr>\n",
       "      <th>79</th>\n",
       "      <td>1936</td>\n",
       "      <td>3.71</td>\n",
       "    </tr>\n",
       "    <tr>\n",
       "      <th>80</th>\n",
       "      <td>1810</td>\n",
       "      <td>3.71</td>\n",
       "    </tr>\n",
       "    <tr>\n",
       "      <th>81</th>\n",
       "      <td>1987</td>\n",
       "      <td>3.73</td>\n",
       "    </tr>\n",
       "    <tr>\n",
       "      <th>82</th>\n",
       "      <td>1962</td>\n",
       "      <td>3.76</td>\n",
       "    </tr>\n",
       "    <tr>\n",
       "      <th>83</th>\n",
       "      <td>2050</td>\n",
       "      <td>3.81</td>\n",
       "    </tr>\n",
       "  </tbody>\n",
       "</table>\n",
       "</div>"
      ],
      "text/plain": [
       "     SAT   GPA\n",
       "79  1936  3.71\n",
       "80  1810  3.71\n",
       "81  1987  3.73\n",
       "82  1962  3.76\n",
       "83  2050  3.81"
      ]
     },
     "execution_count": 10,
     "metadata": {},
     "output_type": "execute_result"
    }
   ],
   "source": [
    "df.tail()"
   ]
  },
  {
   "cell_type": "code",
   "execution_count": 11,
   "id": "2e09c705-45f6-43ff-974f-07b4dbebd707",
   "metadata": {},
   "outputs": [
    {
     "data": {
      "text/plain": [
       "RangeIndex(start=0, stop=84, step=1)"
      ]
     },
     "execution_count": 11,
     "metadata": {},
     "output_type": "execute_result"
    }
   ],
   "source": [
    "df.index"
   ]
  },
  {
   "cell_type": "code",
   "execution_count": 12,
   "id": "c117924d-7fb7-47cc-b5a9-1bdc326ebb20",
   "metadata": {},
   "outputs": [
    {
     "data": {
      "text/plain": [
       "Index(['SAT', 'GPA'], dtype='object')"
      ]
     },
     "execution_count": 12,
     "metadata": {},
     "output_type": "execute_result"
    }
   ],
   "source": [
    "df.columns\n"
   ]
  },
  {
   "cell_type": "code",
   "execution_count": 13,
   "id": "cd608f35-132a-483e-a15e-cfb9325febb9",
   "metadata": {},
   "outputs": [
    {
     "name": "stdout",
     "output_type": "stream",
     "text": [
      "     SAT   GPA\n",
      "0   1714  2.40\n",
      "1   1664  2.52\n",
      "2   1760  2.54\n",
      "3   1685  2.74\n",
      "4   1693  2.83\n",
      "..   ...   ...\n",
      "79  1936  3.71\n",
      "80  1810  3.71\n",
      "81  1987  3.73\n",
      "82  1962  3.76\n",
      "83  2050  3.81\n",
      "\n",
      "[84 rows x 2 columns]\n"
     ]
    }
   ],
   "source": [
    "print(df)"
   ]
  },
  {
   "cell_type": "code",
   "execution_count": 14,
   "id": "bfc8897c-43af-4672-b627-b8be9d42c894",
   "metadata": {},
   "outputs": [
    {
     "data": {
      "text/plain": [
       "array([[1714.  ,    2.4 ],\n",
       "       [1664.  ,    2.52],\n",
       "       [1760.  ,    2.54],\n",
       "       [1685.  ,    2.74],\n",
       "       [1693.  ,    2.83],\n",
       "       [1670.  ,    2.91],\n",
       "       [1764.  ,    3.  ],\n",
       "       [1764.  ,    3.  ],\n",
       "       [1792.  ,    3.01],\n",
       "       [1850.  ,    3.01],\n",
       "       [1735.  ,    3.02],\n",
       "       [1775.  ,    3.07],\n",
       "       [1735.  ,    3.08],\n",
       "       [1712.  ,    3.08],\n",
       "       [1773.  ,    3.12],\n",
       "       [1872.  ,    3.17],\n",
       "       [1755.  ,    3.17],\n",
       "       [1674.  ,    3.17],\n",
       "       [1842.  ,    3.17],\n",
       "       [1786.  ,    3.19],\n",
       "       [1761.  ,    3.19],\n",
       "       [1722.  ,    3.19],\n",
       "       [1663.  ,    3.2 ],\n",
       "       [1687.  ,    3.21],\n",
       "       [1974.  ,    3.24],\n",
       "       [1826.  ,    3.28],\n",
       "       [1787.  ,    3.28],\n",
       "       [1821.  ,    3.28],\n",
       "       [2020.  ,    3.28],\n",
       "       [1794.  ,    3.28],\n",
       "       [1769.  ,    3.28],\n",
       "       [1934.  ,    3.28],\n",
       "       [1775.  ,    3.29],\n",
       "       [1855.  ,    3.29],\n",
       "       [1880.  ,    3.29],\n",
       "       [1849.  ,    3.31],\n",
       "       [1808.  ,    3.32],\n",
       "       [1954.  ,    3.34],\n",
       "       [1777.  ,    3.37],\n",
       "       [1831.  ,    3.37],\n",
       "       [1865.  ,    3.37],\n",
       "       [1850.  ,    3.38],\n",
       "       [1966.  ,    3.38],\n",
       "       [1702.  ,    3.39],\n",
       "       [1990.  ,    3.39],\n",
       "       [1925.  ,    3.4 ],\n",
       "       [1824.  ,    3.4 ],\n",
       "       [1956.  ,    3.4 ],\n",
       "       [1857.  ,    3.41],\n",
       "       [1979.  ,    3.41],\n",
       "       [1802.  ,    3.41],\n",
       "       [1855.  ,    3.42],\n",
       "       [1907.  ,    3.42],\n",
       "       [1634.  ,    3.42],\n",
       "       [1879.  ,    3.44],\n",
       "       [1887.  ,    3.47],\n",
       "       [1730.  ,    3.47],\n",
       "       [1953.  ,    3.47],\n",
       "       [1781.  ,    3.47],\n",
       "       [1891.  ,    3.48],\n",
       "       [1964.  ,    3.49],\n",
       "       [1808.  ,    3.49],\n",
       "       [1893.  ,    3.5 ],\n",
       "       [2041.  ,    3.51],\n",
       "       [1893.  ,    3.51],\n",
       "       [1832.  ,    3.52],\n",
       "       [1850.  ,    3.52],\n",
       "       [1934.  ,    3.54],\n",
       "       [1861.  ,    3.58],\n",
       "       [1931.  ,    3.58],\n",
       "       [1933.  ,    3.59],\n",
       "       [1778.  ,    3.59],\n",
       "       [1975.  ,    3.6 ],\n",
       "       [1934.  ,    3.6 ],\n",
       "       [2021.  ,    3.61],\n",
       "       [2015.  ,    3.62],\n",
       "       [1997.  ,    3.64],\n",
       "       [2020.  ,    3.65],\n",
       "       [1843.  ,    3.71],\n",
       "       [1936.  ,    3.71],\n",
       "       [1810.  ,    3.71],\n",
       "       [1987.  ,    3.73],\n",
       "       [1962.  ,    3.76],\n",
       "       [2050.  ,    3.81]])"
      ]
     },
     "execution_count": 14,
     "metadata": {},
     "output_type": "execute_result"
    }
   ],
   "source": [
    "# df.describe()\n",
    "df.to_numpy()\n",
    "\n"
   ]
  },
  {
   "cell_type": "code",
   "execution_count": 15,
   "id": "97db3f83-0a8e-4013-9f88-e481de2aae5a",
   "metadata": {},
   "outputs": [
    {
     "data": {
      "text/plain": [
       "<matplotlib.collections.PathCollection at 0x281f4f7d880>"
      ]
     },
     "execution_count": 15,
     "metadata": {},
     "output_type": "execute_result"
    },
    {
     "data": {
      "image/png": "[encoded data removed]",
      "text/plain": [
       "<Figure size 720x360 with 1 Axes>"
      ]
     },
     "metadata": {
      "needs_background": "light"
     },
     "output_type": "display_data"
    }
   ],
   "source": [
    "# now we can predict the GPA \n",
    "%matplotlib inline \n",
    "plt.figure(figsize=(10,5))\n",
    "plt.title('plot between SAT scores and their corresponding GPAs')\n",
    "plt.xlabel('SAT scores')\n",
    "plt.ylabel('GPA')\n",
    "\n",
    "plt.scatter(df.SAT,df.GPA)"
   ]
  },
  {
   "cell_type": "markdown",
   "id": "a35620c3-2443-462b-bbc1-fd42c2059328",
   "metadata": {},
   "source": [
    "# SAT vs GPA Prediction using Regression"
   ]
  },
  {
   "cell_type": "code",
   "execution_count": 16,
   "id": "8e80650a-cbd7-47fa-bd49-0894aaab18dd",
   "metadata": {},
   "outputs": [],
   "source": [
    "x = df.to_numpy()\n"
   ]
  },
  {
   "cell_type": "code",
   "execution_count": 17,
   "id": "06e4d17f-fbf1-4c67-a5c0-2db00a258c28",
   "metadata": {},
   "outputs": [],
   "source": [
    "\n",
    "reg=linear_model.LinearRegression()  "
   ]
  },
  {
   "cell_type": "code",
   "execution_count": 18,
   "id": "546c9f76-d486-48ee-ae4d-3dd251796ea6",
   "metadata": {},
   "outputs": [],
   "source": [
    "# reg.fit(df[['Students']],df.GPA) "
   ]
  },
  {
   "cell_type": "code",
   "execution_count": 19,
   "id": "6746bad3-ce3a-4f05-beef-c17f2bafa81a",
   "metadata": {},
   "outputs": [
    {
     "data": {
      "text/plain": [
       "LinearRegression()"
      ]
     },
     "execution_count": 19,
     "metadata": {},
     "output_type": "execute_result"
    }
   ],
   "source": [
    " # fitting the data means traing the dataset according to that\n",
    "reg.fit(df[['SAT']],df.GPA) "
   ]
  },
  {
   "cell_type": "markdown",
   "id": "4f91f652-00d5-4fcb-acc5-c8e12db4dc84",
   "metadata": {},
   "source": [
    "# # y =mx+c is the line of equation \n",
    "# in our case we y is the GPA of the students and x is the no of students who has SAT scores\n"
   ]
  },
  {
   "cell_type": "code",
   "execution_count": 20,
   "id": "81df718e-7ac6-4f91-96b0-828817c398d1",
   "metadata": {},
   "outputs": [
    {
     "data": {
      "text/plain": [
       "array([0.57306415])"
      ]
     },
     "execution_count": 20,
     "metadata": {},
     "output_type": "execute_result"
    }
   ],
   "source": [
    "# gpa = slope*(students) +  y intercept\n",
    "reg.predict([[180]])"
   ]
  },
  {
   "cell_type": "code",
   "execution_count": 21,
   "id": "f3671344-2d11-4ff4-95b6-1ec542697c41",
   "metadata": {},
   "outputs": [
    {
     "data": {
      "text/plain": [
       "array([0.00165569])"
      ]
     },
     "execution_count": 21,
     "metadata": {},
     "output_type": "execute_result"
    }
   ],
   "source": [
    "reg.coef_ #  m = it is the gradient (slope) \n"
   ]
  },
  {
   "cell_type": "code",
   "execution_count": 22,
   "id": "3ea597c8-61d0-495f-939a-1aeda87e9ec9",
   "metadata": {},
   "outputs": [
    {
     "data": {
      "text/plain": [
       "0.2750402996602803"
      ]
     },
     "execution_count": 22,
     "metadata": {},
     "output_type": "execute_result"
    }
   ],
   "source": [
    "reg.intercept_ #  c = y-intercept of  (y= mx+c)"
   ]
  },
  {
   "cell_type": "code",
   "execution_count": 23,
   "id": "5c0de896-9e51-49f5-8958-0799ebab6839",
   "metadata": {},
   "outputs": [
    {
     "data": {
      "text/plain": [
       "3.0648779496602807"
      ]
     },
     "execution_count": 23,
     "metadata": {},
     "output_type": "execute_result"
    }
   ],
   "source": [
    "0.00165569*1685+0.27504029966028076 # (y= mx+c) for this case x input is 1685 "
   ]
  },
  {
   "cell_type": "code",
   "execution_count": 24,
   "id": "655b1bf7-7a84-40e6-94e1-f3df4e9136d0",
   "metadata": {},
   "outputs": [],
   "source": [
    "from sklearn.model_selection import train_test_split\n",
    "train, test = train_test_split(df, test_size=0.2) \n",
    "# df = pd.DataFrame(np.random.randn(100, 2))"
   ]
  },
  {
   "cell_type": "code",
   "execution_count": 25,
   "id": "d54f1036-f453-407a-8faa-edf60a920d7e",
   "metadata": {},
   "outputs": [
    {
     "data": {
      "text/plain": [
       "array([3.11288962, 3.03010522, 3.18905127, 3.06487466, 3.07812017,\n",
       "       3.04003934, 3.19567402, 3.19567402, 3.24203329, 3.33806319,\n",
       "       3.14765907, 3.21388659, 3.14765907, 3.10957824, 3.21057521,\n",
       "       3.37448833, 3.18077283, 3.0466621 , 3.32481769, 3.23209916,\n",
       "       3.19070696, 3.12613512, 3.02844953, 3.06818604, 3.54336851,\n",
       "       3.29832668, 3.23375485, 3.29004824, 3.61953016, 3.24534466,\n",
       "       3.20395246, 3.47714099, 3.21388659, 3.34634163, 3.38773383,\n",
       "       3.3364075 , 3.26852429, 3.51025475, 3.21719796, 3.30660512,\n",
       "       3.36289851, 3.33806319, 3.53012301, 3.09302136, 3.56985952,\n",
       "       3.4622398 , 3.2950153 , 3.51356613, 3.34965301, 3.55164695,\n",
       "       3.25859017, 3.34634163, 3.43243741, 2.98043457, 3.38607815,\n",
       "       3.39932365, 3.13938063, 3.50859906, 3.22382072, 3.4059464 ,\n",
       "       3.52681163, 3.26852429, 3.40925778, 3.65429961, 3.40925778,\n",
       "       3.30826081, 3.33806319, 3.47714099, 3.35627576, 3.47217392,\n",
       "       3.4754853 , 3.21885365, 3.5450242 , 3.47714099, 3.62118585,\n",
       "       3.61125172, 3.58144934, 3.61953016, 3.32647338, 3.48045236,\n",
       "       3.27183567, 3.56489246, 3.52350025, 3.6692008 ])"
      ]
     },
     "execution_count": 25,
     "metadata": {},
     "output_type": "execute_result"
    }
   ],
   "source": [
    "# predicted values \n",
    "reg.predict(np.array(df[['SAT']]))\n",
    "\n"
   ]
  },
  {
   "cell_type": "code",
   "execution_count": 26,
   "id": "d4c53866-c086-406c-bbd1-c5a3eff88e49",
   "metadata": {},
   "outputs": [],
   "source": [
    "new_dframe = pd.read_csv(\"dataset.csv\")"
   ]
  },
  {
   "cell_type": "code",
   "execution_count": 27,
   "id": "c01fee18-afc8-4656-a36a-f55e0e5c2159",
   "metadata": {},
   "outputs": [
    {
     "data": {
      "text/html": [
       "<div>\n",
       "<style scoped>\n",
       "    .dataframe tbody tr th:only-of-type {\n",
       "        vertical-align: middle;\n",
       "    }\n",
       "\n",
       "    .dataframe tbody tr th {\n",
       "        vertical-align: top;\n",
       "    }\n",
       "\n",
       "    .dataframe thead th {\n",
       "        text-align: right;\n",
       "    }\n",
       "</style>\n",
       "<table border=\"1\" class=\"dataframe\">\n",
       "  <thead>\n",
       "    <tr style=\"text-align: right;\">\n",
       "      <th></th>\n",
       "      <th>SAT</th>\n",
       "      <th>GPA</th>\n",
       "    </tr>\n",
       "  </thead>\n",
       "  <tbody>\n",
       "    <tr>\n",
       "      <th>0</th>\n",
       "      <td>1714</td>\n",
       "      <td>2.40</td>\n",
       "    </tr>\n",
       "    <tr>\n",
       "      <th>1</th>\n",
       "      <td>1664</td>\n",
       "      <td>2.52</td>\n",
       "    </tr>\n",
       "    <tr>\n",
       "      <th>2</th>\n",
       "      <td>1760</td>\n",
       "      <td>2.54</td>\n",
       "    </tr>\n",
       "    <tr>\n",
       "      <th>3</th>\n",
       "      <td>1685</td>\n",
       "      <td>2.74</td>\n",
       "    </tr>\n",
       "    <tr>\n",
       "      <th>4</th>\n",
       "      <td>1693</td>\n",
       "      <td>2.83</td>\n",
       "    </tr>\n",
       "    <tr>\n",
       "      <th>...</th>\n",
       "      <td>...</td>\n",
       "      <td>...</td>\n",
       "    </tr>\n",
       "    <tr>\n",
       "      <th>79</th>\n",
       "      <td>1936</td>\n",
       "      <td>3.71</td>\n",
       "    </tr>\n",
       "    <tr>\n",
       "      <th>80</th>\n",
       "      <td>1810</td>\n",
       "      <td>3.71</td>\n",
       "    </tr>\n",
       "    <tr>\n",
       "      <th>81</th>\n",
       "      <td>1987</td>\n",
       "      <td>3.73</td>\n",
       "    </tr>\n",
       "    <tr>\n",
       "      <th>82</th>\n",
       "      <td>1962</td>\n",
       "      <td>3.76</td>\n",
       "    </tr>\n",
       "    <tr>\n",
       "      <th>83</th>\n",
       "      <td>2050</td>\n",
       "      <td>3.81</td>\n",
       "    </tr>\n",
       "  </tbody>\n",
       "</table>\n",
       "<p>84 rows × 2 columns</p>\n",
       "</div>"
      ],
      "text/plain": [
       "     SAT   GPA\n",
       "0   1714  2.40\n",
       "1   1664  2.52\n",
       "2   1760  2.54\n",
       "3   1685  2.74\n",
       "4   1693  2.83\n",
       "..   ...   ...\n",
       "79  1936  3.71\n",
       "80  1810  3.71\n",
       "81  1987  3.73\n",
       "82  1962  3.76\n",
       "83  2050  3.81\n",
       "\n",
       "[84 rows x 2 columns]"
      ]
     },
     "execution_count": 27,
     "metadata": {},
     "output_type": "execute_result"
    }
   ],
   "source": [
    "new_dframe"
   ]
  },
  {
   "cell_type": "code",
   "execution_count": 37,
   "id": "3e862e4a-43a1-4c7f-a9b6-695fb0190040",
   "metadata": {},
   "outputs": [],
   "source": [
    "bhutaae=reg.predict(np.array(df[['SAT']]))"
   ]
  },
  {
   "cell_type": "code",
   "execution_count": 38,
   "id": "5d41cb0d-5446-4995-8128-d2966ad71eca",
   "metadata": {},
   "outputs": [],
   "source": [
    "df['predictedvlaues'] = bhutaae"
   ]
  },
  {
   "cell_type": "code",
   "execution_count": 39,
   "id": "f30589dd-c69b-464c-9095-dc0935ee0b8f",
   "metadata": {},
   "outputs": [
    {
     "data": {
      "text/html": [
       "<div>\n",
       "<style scoped>\n",
       "    .dataframe tbody tr th:only-of-type {\n",
       "        vertical-align: middle;\n",
       "    }\n",
       "\n",
       "    .dataframe tbody tr th {\n",
       "        vertical-align: top;\n",
       "    }\n",
       "\n",
       "    .dataframe thead th {\n",
       "        text-align: right;\n",
       "    }\n",
       "</style>\n",
       "<table border=\"1\" class=\"dataframe\">\n",
       "  <thead>\n",
       "    <tr style=\"text-align: right;\">\n",
       "      <th></th>\n",
       "      <th>SAT</th>\n",
       "      <th>GPA</th>\n",
       "      <th>predictedvlaues</th>\n",
       "    </tr>\n",
       "  </thead>\n",
       "  <tbody>\n",
       "    <tr>\n",
       "      <th>0</th>\n",
       "      <td>1714</td>\n",
       "      <td>2.40</td>\n",
       "      <td>3.112890</td>\n",
       "    </tr>\n",
       "    <tr>\n",
       "      <th>1</th>\n",
       "      <td>1664</td>\n",
       "      <td>2.52</td>\n",
       "      <td>3.030105</td>\n",
       "    </tr>\n",
       "    <tr>\n",
       "      <th>2</th>\n",
       "      <td>1760</td>\n",
       "      <td>2.54</td>\n",
       "      <td>3.189051</td>\n",
       "    </tr>\n",
       "    <tr>\n",
       "      <th>3</th>\n",
       "      <td>1685</td>\n",
       "      <td>2.74</td>\n",
       "      <td>3.064875</td>\n",
       "    </tr>\n",
       "    <tr>\n",
       "      <th>4</th>\n",
       "      <td>1693</td>\n",
       "      <td>2.83</td>\n",
       "      <td>3.078120</td>\n",
       "    </tr>\n",
       "    <tr>\n",
       "      <th>...</th>\n",
       "      <td>...</td>\n",
       "      <td>...</td>\n",
       "      <td>...</td>\n",
       "    </tr>\n",
       "    <tr>\n",
       "      <th>79</th>\n",
       "      <td>1936</td>\n",
       "      <td>3.71</td>\n",
       "      <td>3.480452</td>\n",
       "    </tr>\n",
       "    <tr>\n",
       "      <th>80</th>\n",
       "      <td>1810</td>\n",
       "      <td>3.71</td>\n",
       "      <td>3.271836</td>\n",
       "    </tr>\n",
       "    <tr>\n",
       "      <th>81</th>\n",
       "      <td>1987</td>\n",
       "      <td>3.73</td>\n",
       "      <td>3.564892</td>\n",
       "    </tr>\n",
       "    <tr>\n",
       "      <th>82</th>\n",
       "      <td>1962</td>\n",
       "      <td>3.76</td>\n",
       "      <td>3.523500</td>\n",
       "    </tr>\n",
       "    <tr>\n",
       "      <th>83</th>\n",
       "      <td>2050</td>\n",
       "      <td>3.81</td>\n",
       "      <td>3.669201</td>\n",
       "    </tr>\n",
       "  </tbody>\n",
       "</table>\n",
       "<p>84 rows × 3 columns</p>\n",
       "</div>"
      ],
      "text/plain": [
       "     SAT   GPA  predictedvlaues\n",
       "0   1714  2.40         3.112890\n",
       "1   1664  2.52         3.030105\n",
       "2   1760  2.54         3.189051\n",
       "3   1685  2.74         3.064875\n",
       "4   1693  2.83         3.078120\n",
       "..   ...   ...              ...\n",
       "79  1936  3.71         3.480452\n",
       "80  1810  3.71         3.271836\n",
       "81  1987  3.73         3.564892\n",
       "82  1962  3.76         3.523500\n",
       "83  2050  3.81         3.669201\n",
       "\n",
       "[84 rows x 3 columns]"
      ]
     },
     "execution_count": 39,
     "metadata": {},
     "output_type": "execute_result"
    }
   ],
   "source": [
    "df"
   ]
  },
  {
   "cell_type": "code",
   "execution_count": 41,
   "id": "f4157d88-b093-42b7-b0e6-582a17155ed8",
   "metadata": {},
   "outputs": [],
   "source": [
    "df.to_csv(\"prediction.csv\",index=False)"
   ]
  },
  {
   "cell_type": "code",
   "execution_count": 42,
   "id": "6e597388-e7ae-4808-9741-ea11547d9904",
   "metadata": {},
   "outputs": [],
   "source": [
    "newdf= pd.read_csv(\"prediction.csv\")"
   ]
  },
  {
   "cell_type": "code",
   "execution_count": 43,
   "id": "129131c4-39e6-4d1d-b0b3-ff368ff535f3",
   "metadata": {},
   "outputs": [
    {
     "name": "stdout",
     "output_type": "stream",
     "text": [
      "     SAT   GPA  predictedvlaues\n",
      "0   1714  2.40         3.112890\n",
      "1   1664  2.52         3.030105\n",
      "2   1760  2.54         3.189051\n",
      "3   1685  2.74         3.064875\n",
      "4   1693  2.83         3.078120\n",
      "..   ...   ...              ...\n",
      "79  1936  3.71         3.480452\n",
      "80  1810  3.71         3.271836\n",
      "81  1987  3.73         3.564892\n",
      "82  1962  3.76         3.523500\n",
      "83  2050  3.81         3.669201\n",
      "\n",
      "[84 rows x 3 columns]\n"
     ]
    }
   ],
   "source": [
    "print(newdf)"
   ]
  },
  {
   "cell_type": "code",
   "execution_count": null,
   "id": "a4025777-cf12-485d-929a-131fe30a636a",
   "metadata": {},
   "outputs": [],
   "source": []
  },
  {
   "cell_type": "code",
   "execution_count": 47,
   "id": "d201070c-567d-4c87-8722-a4b2d65a0a5e",
   "metadata": {},
   "outputs": [
    {
     "data": {
      "image/png": "[encoded data removed]",
      "text/plain": [
       "<Figure size 720x360 with 1 Axes>"
      ]
     },
     "metadata": {
      "needs_background": "light"
     },
     "output_type": "display_data"
    }
   ],
   "source": [
    "%matplotlib inline \n",
    "plt.figure(figsize=(10,5))\n",
    "plt.title('plot between SAT scores and their corresponding GPAs')\n",
    "plt.xlabel('SAT scores')\n",
    "plt.ylabel('GPA')\n",
    "\n",
    "plt.scatter(df.SAT,df.GPA)\n",
    "plt.plot(df.SAT,reg.predict(np.array(df[['SAT']])), color='black')\n",
    "plt.show()"
   ]
  },
  {
   "cell_type": "code",
   "execution_count": null,
   "id": "33114922-c431-4d49-971f-98cb17e188f9",
   "metadata": {},
   "outputs": [],
   "source": []
  }
 ],
 "metadata": {
  "kernelspec": {
   "display_name": "Python 3 (ipykernel)",
   "language": "python",
   "name": "python3"
  },
  "language_info": {
   "codemirror_mode": {
    "name": "ipython",
    "version": 3
   },
   "file_extension": ".py",
   "mimetype": "text/x-python",
   "name": "python",
   "nbconvert_exporter": "python",
   "pygments_lexer": "ipython3",
   "version": "3.9.7"
  }
 },
 "nbformat": 4,
 "nbformat_minor": 5
}
